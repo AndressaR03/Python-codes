{
 "cells": [
  {
   "cell_type": "markdown",
   "metadata": {},
   "source": [
    "### Vetorização"
   ]
  },
  {
   "cell_type": "markdown",
   "metadata": {},
   "source": [
    "Embora possamos usar list comprehension e função map em array numpy, este pode não ser o melhor método e a maneira mais eficiente de se obter o mesmo resultado seria através de vetorização. \n",
    "\n",
    "Vetorização nos permite aplicar uma função a um array inteiro, ao invés de aplicar a função elemnto a elemnto (similar ao que fazemos com a função map() e filter()\n",
    "                                                                                                               \n",
    "Ao trabalhar com objetos Numpy e Pandas, existem maneiras mais eficientes de se aplicar uma função a um conjunto de elemntos, que serão mais velozes que a aplicação de loops for.                                                                                                              \n",
    "                                                                "
   ]
  },
  {
   "cell_type": "code",
   "execution_count": 3,
   "metadata": {},
   "outputs": [],
   "source": [
    "import numpy as np"
   ]
  },
  {
   "cell_type": "code",
   "execution_count": 4,
   "metadata": {},
   "outputs": [],
   "source": [
    "array1 = np.random.randint(0, 50, 20)"
   ]
  },
  {
   "cell_type": "code",
   "execution_count": 22,
   "metadata": {},
   "outputs": [
    {
     "data": {
      "text/plain": [
       "numpy.ndarray"
      ]
     },
     "execution_count": 22,
     "metadata": {},
     "output_type": "execute_result"
    }
   ],
   "source": [
    "array1"
   ]
  },
  {
   "cell_type": "code",
   "execution_count": 5,
   "metadata": {},
   "outputs": [
    {
     "data": {
      "text/plain": [
       "array([ 4, 45, 14, 27, 12, 32, 35, 14, 24, 40,  4, 40, 32, 44,  8, 26, 16,\n",
       "       39, 26,  1])"
      ]
     },
     "execution_count": 5,
     "metadata": {},
     "output_type": "execute_result"
    }
   ],
   "source": [
    "array1"
   ]
  },
  {
   "cell_type": "code",
   "execution_count": 6,
   "metadata": {},
   "outputs": [
    {
     "data": {
      "text/plain": [
       "(20,)"
      ]
     },
     "execution_count": 6,
     "metadata": {},
     "output_type": "execute_result"
    }
   ],
   "source": [
    "array1.shape"
   ]
  },
  {
   "cell_type": "code",
   "execution_count": 7,
   "metadata": {},
   "outputs": [],
   "source": [
    "#Criando uma função\n",
    "def calc_func(num):\n",
    "    if num < 10:\n",
    "        return num ** 3\n",
    "    else:\n",
    "        return num ** 2"
   ]
  },
  {
   "cell_type": "code",
   "execution_count": 8,
   "metadata": {},
   "outputs": [
    {
     "ename": "ValueError",
     "evalue": "The truth value of an array with more than one element is ambiguous. Use a.any() or a.all()",
     "output_type": "error",
     "traceback": [
      "\u001b[1;31m---------------------------------------------------------------------------\u001b[0m",
      "\u001b[1;31mValueError\u001b[0m                                Traceback (most recent call last)",
      "\u001b[1;32m<ipython-input-8-396110f2142b>\u001b[0m in \u001b[0;36m<module>\u001b[1;34m\u001b[0m\n\u001b[0;32m      1\u001b[0m \u001b[1;31m# Para que a função funcion no objeto array do Numpy, ela precisa ser vetorizada\u001b[0m\u001b[1;33m\u001b[0m\u001b[1;33m\u001b[0m\u001b[1;33m\u001b[0m\u001b[0m\n\u001b[1;32m----> 2\u001b[1;33m \u001b[0mcalc_func\u001b[0m\u001b[1;33m(\u001b[0m\u001b[0marray1\u001b[0m\u001b[1;33m)\u001b[0m\u001b[1;33m\u001b[0m\u001b[1;33m\u001b[0m\u001b[0m\n\u001b[0m",
      "\u001b[1;32m<ipython-input-7-3200b57ea98e>\u001b[0m in \u001b[0;36mcalc_func\u001b[1;34m(num)\u001b[0m\n\u001b[0;32m      1\u001b[0m \u001b[1;31m#Criando uma função\u001b[0m\u001b[1;33m\u001b[0m\u001b[1;33m\u001b[0m\u001b[1;33m\u001b[0m\u001b[0m\n\u001b[0;32m      2\u001b[0m \u001b[1;32mdef\u001b[0m \u001b[0mcalc_func\u001b[0m\u001b[1;33m(\u001b[0m\u001b[0mnum\u001b[0m\u001b[1;33m)\u001b[0m\u001b[1;33m:\u001b[0m\u001b[1;33m\u001b[0m\u001b[1;33m\u001b[0m\u001b[0m\n\u001b[1;32m----> 3\u001b[1;33m     \u001b[1;32mif\u001b[0m \u001b[0mnum\u001b[0m \u001b[1;33m<\u001b[0m \u001b[1;36m10\u001b[0m\u001b[1;33m:\u001b[0m\u001b[1;33m\u001b[0m\u001b[1;33m\u001b[0m\u001b[0m\n\u001b[0m\u001b[0;32m      4\u001b[0m         \u001b[1;32mreturn\u001b[0m \u001b[0mnum\u001b[0m \u001b[1;33m**\u001b[0m \u001b[1;36m3\u001b[0m\u001b[1;33m\u001b[0m\u001b[1;33m\u001b[0m\u001b[0m\n\u001b[0;32m      5\u001b[0m     \u001b[1;32melse\u001b[0m\u001b[1;33m:\u001b[0m\u001b[1;33m\u001b[0m\u001b[1;33m\u001b[0m\u001b[0m\n",
      "\u001b[1;31mValueError\u001b[0m: The truth value of an array with more than one element is ambiguous. Use a.any() or a.all()"
     ]
    }
   ],
   "source": [
    "# Para que a função funcion no objeto array do Numpy, ela precisa ser vetorizada\n",
    "calc_func(array1)"
   ]
  },
  {
   "cell_type": "code",
   "execution_count": 9,
   "metadata": {},
   "outputs": [],
   "source": [
    "?np.vectorize"
   ]
  },
  {
   "cell_type": "code",
   "execution_count": 10,
   "metadata": {},
   "outputs": [],
   "source": [
    "#Vetorizando a funçãoo \n",
    "v_calc_func = np.vectorize(calc_func)"
   ]
  },
  {
   "cell_type": "code",
   "execution_count": 11,
   "metadata": {},
   "outputs": [
    {
     "data": {
      "text/plain": [
       "numpy.vectorize"
      ]
     },
     "execution_count": 11,
     "metadata": {},
     "output_type": "execute_result"
    }
   ],
   "source": [
    "type(v_calc_func)"
   ]
  },
  {
   "cell_type": "code",
   "execution_count": 12,
   "metadata": {},
   "outputs": [
    {
     "data": {
      "text/plain": [
       "array([  64, 2025,  196,  729,  144, 1024, 1225,  196,  576, 1600,   64,\n",
       "       1600, 1024, 1936,  512,  676,  256, 1521,  676,    1])"
      ]
     },
     "execution_count": 12,
     "metadata": {},
     "output_type": "execute_result"
    }
   ],
   "source": [
    "v_calc_func(array1)"
   ]
  },
  {
   "cell_type": "code",
   "execution_count": 13,
   "metadata": {},
   "outputs": [
    {
     "data": {
      "text/plain": [
       "[64,\n",
       " 2025,\n",
       " 196,\n",
       " 729,\n",
       " 144,\n",
       " 1024,\n",
       " 1225,\n",
       " 196,\n",
       " 576,\n",
       " 1600,\n",
       " 64,\n",
       " 1600,\n",
       " 1024,\n",
       " 1936,\n",
       " 512,\n",
       " 676,\n",
       " 256,\n",
       " 1521,\n",
       " 676,\n",
       " 1]"
      ]
     },
     "execution_count": 13,
     "metadata": {},
     "output_type": "execute_result"
    }
   ],
   "source": [
    "#Aplicando a função map() sem vetorizar a função\n",
    "list(map(calc_func, array1))"
   ]
  },
  {
   "cell_type": "code",
   "execution_count": 14,
   "metadata": {},
   "outputs": [
    {
     "data": {
      "text/plain": [
       "[64,\n",
       " 2025,\n",
       " 196,\n",
       " 729,\n",
       " 144,\n",
       " 1024,\n",
       " 1225,\n",
       " 196,\n",
       " 576,\n",
       " 1600,\n",
       " 64,\n",
       " 1600,\n",
       " 1024,\n",
       " 1936,\n",
       " 512,\n",
       " 676,\n",
       " 256,\n",
       " 1521,\n",
       " 676,\n",
       " 1]"
      ]
     },
     "execution_count": 14,
     "metadata": {},
     "output_type": "execute_result"
    }
   ],
   "source": [
    "#Podemos usar o  list comprehension para obeter o mesmo resultudo, sem vetorizar a função\n",
    "[calc_func(i) for i in array1]"
   ]
  },
  {
   "cell_type": "markdown",
   "metadata": {},
   "source": [
    "No Python 3, a list comprehension recebeu atualizaçãoes e ficou muito mais rápida e eficiente, uma vez que ela é amplamente utilizada em programção Python. Lembre-se sempre de checar a documentação antes de decidir como você irpa manipular estruturas de dados."
   ]
  },
  {
   "cell_type": "code",
   "execution_count": 21,
   "metadata": {},
   "outputs": [
    {
     "name": "stdout",
     "output_type": "stream",
     "text": [
      "48.7 µs ± 1.32 µs per loop (mean ± std. dev. of 7 runs, 10000 loops each)\n",
      "31.6 µs ± 1.21 µs per loop (mean ± std. dev. of 7 runs, 10000 loops each)\n",
      "28.3 µs ± 1.6 µs per loop (mean ± std. dev. of 7 runs, 10000 loops each)\n",
      "30.9 µs ± 1.4 µs per loop (mean ± std. dev. of 7 runs, 10000 loops each)\n"
     ]
    }
   ],
   "source": [
    "# Funcção vetorizada \n",
    "%timeit v_calc_func(array1)\n",
    "\n",
    "#List comprehension\n",
    "%timeit [calc_func(i) for i in array1]\n",
    "\n",
    "#Fução map\n",
    "%timeit list(map(calc_func, array1))\n",
    "\n",
    "def for_v(array):\n",
    "    for i in array:\n",
    "        calc_func(i)\n",
    "\n",
    "#For\n",
    "%timeit for_v(array1)"
   ]
  },
  {
   "cell_type": "code",
   "execution_count": 16,
   "metadata": {},
   "outputs": [],
   "source": [
    "#Criando um array com valores maiores\n",
    "array2 = np.random.randint(0,100, 20 * 10000)"
   ]
  },
  {
   "cell_type": "code",
   "execution_count": 17,
   "metadata": {},
   "outputs": [
    {
     "name": "stdout",
     "output_type": "stream",
     "text": [
      "157 ms ± 3.2 ms per loop (mean ± std. dev. of 7 runs, 10 loops each)\n",
      "308 ms ± 15.2 ms per loop (mean ± std. dev. of 7 runs, 1 loop each)\n",
      "278 ms ± 7.92 ms per loop (mean ± std. dev. of 7 runs, 1 loop each)\n"
     ]
    }
   ],
   "source": [
    "#Função vetorizado\n",
    "%timeit v_calc_func(array2)\n",
    "\n",
    "#List comprehension\n",
    "%timeit [calc_func(i) for i in array2]\n",
    "\n",
    "#Função Map\n",
    "%timeit list(map(calc_func, array2))"
   ]
  },
  {
   "cell_type": "markdown",
   "metadata": {},
   "source": [
    "### Fim"
   ]
  }
 ],
 "metadata": {
  "kernelspec": {
   "display_name": "Python 3",
   "language": "python",
   "name": "python3"
  },
  "language_info": {
   "codemirror_mode": {
    "name": "ipython",
    "version": 3
   },
   "file_extension": ".py",
   "mimetype": "text/x-python",
   "name": "python",
   "nbconvert_exporter": "python",
   "pygments_lexer": "ipython3",
   "version": "3.8.3"
  }
 },
 "nbformat": 4,
 "nbformat_minor": 4
}
